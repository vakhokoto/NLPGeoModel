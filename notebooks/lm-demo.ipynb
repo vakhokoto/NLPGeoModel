{
 "cells": [
  {
   "cell_type": "code",
   "execution_count": 22,
   "metadata": {},
   "outputs": [],
   "source": [
    "import numpy as np\n",
    "import pandas as pd\n",
    "import os\n",
    "import math\n",
    "from nltk.tokenize import wordpunct_tokenize as tokenize\n"
   ]
  },
  {
   "cell_type": "code",
   "execution_count": 11,
   "metadata": {},
   "outputs": [
    {
     "name": "stderr",
     "output_type": "stream",
     "text": [
      "Some weights of RobertaModel were not initialized from the model checkpoint at ./archivethird/resources and are newly initialized: ['roberta.pooler.dense.weight', 'roberta.pooler.dense.bias']\n",
      "You should probably TRAIN this model on a down-stream task to be able to use it for predictions and inference.\n"
     ]
    }
   ],
   "source": [
    "from transformers import pipeline\n",
    "\n",
    "fill_mask = pipeline(\n",
    "    \"fill-mask\",\n",
    "    model=\"../resources/roberta\",\n",
    "    tokenizer=\"../resources/roberta\"\n",
    ")\n"
   ]
  },
  {
   "cell_type": "code",
   "execution_count": 8,
   "metadata": {},
   "outputs": [],
   "source": [
    "def tokenize_sent(sequence):\n",
    "    seq = sequence.replace('\"', ' \" ')\n",
    "    seq = tokenize(seq)\n",
    "    return seq"
   ]
  },
  {
   "cell_type": "code",
   "execution_count": 14,
   "metadata": {},
   "outputs": [],
   "source": [
    "def continue_sent(sent):\n",
    "    sent = sent + '<mask>' + '.'\n",
    "    predictions = fill_mask(sent)\n",
    "    return predictions[0], predictions[1]"
   ]
  },
  {
   "cell_type": "code",
   "execution_count": 132,
   "metadata": {},
   "outputs": [],
   "source": [
    "def continue_with_beam(sent, topk=5, n=2):\n",
    "    output_sequences = [(sent, 0)]\n",
    "    \n",
    "    \n",
    "    for _ in range (n):\n",
    "        new_sequences = []\n",
    "        for sentence_longer, score in output_sequences:\n",
    "            for predictions in continue_sent(sentence_longer):\n",
    "                new_sent, new_score = predictions['sequence'], predictions['score']\n",
    "                new_sent = new_sent.rstrip('.</s>').lstrip('<s>')\n",
    "                if (tokenize_sent(new_sent)[-1]) in sentence_longer:\n",
    "                    continue\n",
    "                new_sequences += [(new_sent, score+math.log(new_score))]\n",
    "        if (len(new_sequences) == 0): return output_sequences\n",
    "        output_sequences = sorted(new_sequences, key = lambda val: val[1], reverse = True)\n",
    "        output_sequences = output_sequences[:topk]\n",
    "    \n",
    "    return output_sequences"
   ]
  },
  {
   "cell_type": "code",
   "execution_count": 140,
   "metadata": {},
   "outputs": [
    {
     "data": {
      "text/plain": [
       "[('მეტალისტი ხარკოვი საქართველოში დაიბადა თბილისში, მოსკოვში',\n",
       "  -9.926417230274566)]"
      ]
     },
     "execution_count": 140,
     "metadata": {},
     "output_type": "execute_result"
    }
   ],
   "source": [
    "continue_with_beam('მეტალისტი ხარკოვი ', n=10)"
   ]
  }
 ],
 "metadata": {
  "kernelspec": {
   "display_name": "Python 3",
   "language": "python",
   "name": "python3"
  },
  "language_info": {
   "codemirror_mode": {
    "name": "ipython",
    "version": 3
   },
   "file_extension": ".py",
   "mimetype": "text/x-python",
   "name": "python",
   "nbconvert_exporter": "python",
   "pygments_lexer": "ipython3",
   "version": "3.7.6"
  }
 },
 "nbformat": 4,
 "nbformat_minor": 4
}
