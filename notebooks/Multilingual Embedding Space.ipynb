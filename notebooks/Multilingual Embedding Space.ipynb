{
 "cells": [
  {
   "cell_type": "code",
   "execution_count": 1,
   "metadata": {},
   "outputs": [],
   "source": [
    "import io\n",
    "import numpy as np\n",
    "from gensim.models import word2vec\n",
    "from gensim.models import KeyedVectors\n",
    "import gensim.downloader as api"
   ]
  },
  {
   "cell_type": "code",
   "execution_count": 2,
   "metadata": {},
   "outputs": [],
   "source": [
    "kaw2v = word2vec.Word2Vec.load('../resources/word2vec/w2vemb100wind4.model').wv\n",
    "enw2v = KeyedVectors.load_word2vec_format('glove-twitter-100/glove-twitter-100.gz')"
   ]
  },
  {
   "cell_type": "code",
   "execution_count": 3,
   "metadata": {},
   "outputs": [],
   "source": [
    "def get_vecs(model):\n",
    "    vocab = [word for word, emb in model.vocab.items()]\n",
    "    vectors = []\n",
    "    for word in vocab:\n",
    "        vectors.append(model[word])\n",
    "    word2id = {word:ind for ind, word in enumerate(vocab)}\n",
    "    id2word = {ind:word for ind, word in enumerate(vocab)}\n",
    "    embeddings = np.vstack(vectors)\n",
    "    return embeddings, word2id, id2word\n",
    "\n",
    "kavecs, kaword2id, kaid2word = get_vecs(kaw2v)\n",
    "envecs, enword2id, enid2word = get_vecs(enw2v)"
   ]
  },
  {
   "cell_type": "code",
   "execution_count": 4,
   "metadata": {},
   "outputs": [],
   "source": [
    "def get_nn(word, src_emb, src_id2word, tgt_emb, tgt_id2word, K=5):\n",
    "    print(\"Nearest neighbors of \\\"%s\\\":\" % word)\n",
    "    word2id = {v: k for k, v in src_id2word.items()}\n",
    "    word_emb = src_emb[word2id[word]]\n",
    "    scores = (tgt_emb / np.linalg.norm(tgt_emb, 2, 1)[:, None]).dot(word_emb / np.linalg.norm(word_emb))\n",
    "    k_best = scores.argsort()[-K:][::-1]\n",
    "    print(scores.shape)\n",
    "    for i, idx in enumerate(k_best):\n",
    "        print('%.4f - %s' % (scores[idx], tgt_id2word[idx]))\n"
   ]
  },
  {
   "cell_type": "code",
   "execution_count": 5,
   "metadata": {},
   "outputs": [
    {
     "name": "stdout",
     "output_type": "stream",
     "text": [
      "Nearest neighbors of \"კატა\":\n",
      "(90203,)\n",
      "1.0000 - კატა\n",
      "0.8192 - კურდღელი\n",
      "0.8132 - სამურავი\n",
      "0.8048 - გომბეშო\n",
      "0.8048 - ლეოპარდი\n"
     ]
    }
   ],
   "source": [
    "get_nn('კატა', kavecs, kaid2word, kavecs, kaid2word)"
   ]
  },
  {
   "cell_type": "code",
   "execution_count": 9,
   "metadata": {},
   "outputs": [
    {
     "name": "stdout",
     "output_type": "stream",
     "text": [
      "Nearest neighbors of \"წიგნი\":\n",
      "(1193514,)\n",
      "0.4741 - corregido\n",
      "0.4545 - gigas\n",
      "0.4514 - bajado\n",
      "0.4444 - apagones\n",
      "0.4443 - bbmu\n"
     ]
    }
   ],
   "source": [
    "get_nn('წიგნი', kavecs, kaid2word, envecs, enid2word)"
   ]
  },
  {
   "cell_type": "code",
   "execution_count": null,
   "metadata": {},
   "outputs": [],
   "source": []
  }
 ],
 "metadata": {
  "kernelspec": {
   "display_name": "Python 3",
   "language": "python",
   "name": "python3"
  },
  "language_info": {
   "codemirror_mode": {
    "name": "ipython",
    "version": 3
   },
   "file_extension": ".py",
   "mimetype": "text/x-python",
   "name": "python",
   "nbconvert_exporter": "python",
   "pygments_lexer": "ipython3",
   "version": "3.7.6"
  }
 },
 "nbformat": 4,
 "nbformat_minor": 4
}
