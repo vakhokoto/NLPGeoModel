{
 "cells": [
  {
   "cell_type": "code",
   "execution_count": 1,
   "metadata": {
    "_cell_guid": "b1076dfc-b9ad-4769-8c92-a6c4dae69d19",
    "_uuid": "8f2839f25d086af736a60e9eeb907d3b93b6e0e5",
    "execution": {
     "iopub.execute_input": "2021-01-23T20:30:07.501982Z",
     "iopub.status.busy": "2021-01-23T20:30:07.501145Z",
     "iopub.status.idle": "2021-01-23T20:30:07.503648Z",
     "shell.execute_reply": "2021-01-23T20:30:07.504109Z"
    },
    "papermill": {
     "duration": 0.014522,
     "end_time": "2021-01-23T20:30:07.504290",
     "exception": false,
     "start_time": "2021-01-23T20:30:07.489768",
     "status": "completed"
    },
    "tags": []
   },
   "outputs": [],
   "source": [
    "import numpy as np\n",
    "import pandas as pd\n",
    "import os, glob, random\n"
   ]
  },
  {
   "cell_type": "code",
   "execution_count": 2,
   "metadata": {
    "execution": {
     "iopub.execute_input": "2021-01-23T20:30:07.529614Z",
     "iopub.status.busy": "2021-01-23T20:30:07.528951Z",
     "iopub.status.idle": "2021-01-23T20:53:19.377802Z",
     "shell.execute_reply": "2021-01-23T20:53:19.377171Z"
    },
    "papermill": {
     "duration": 1391.86814,
     "end_time": "2021-01-23T20:53:19.377937",
     "exception": false,
     "start_time": "2021-01-23T20:30:07.509797",
     "status": "completed"
    },
    "tags": []
   },
   "outputs": [
    {
     "name": "stdout",
     "output_type": "stream",
     "text": [
      "0 files read\n",
      "10000 files read\n",
      "20000 files read\n",
      "30000 files read\n",
      "40000 files read\n",
      "50000 files read\n",
      "60000 files read\n",
      "70000 files read\n",
      "80000 files read\n",
      "90000 files read\n",
      "100000 files read\n",
      "110000 files read\n",
      "120000 files read\n",
      "130000 files read\n",
      "140000 files read\n",
      "150000 files read\n",
      "160000 files read\n",
      "170000 files read\n",
      "180000 files read\n"
     ]
    }
   ],
   "source": [
    "marketer_df = pd.read_csv('../data/marketer-articles/articles.csv')\n",
    "corpus = list(df['text'].dropna())\n",
    "\n",
    "for ind, filename in enumerate(glob.glob(\"../data/whole-data/*\")):\n",
    "    if ind % 10000 == 0:\n",
    "        print(ind, 'files read')\n",
    "    fd = open(filename, 'r')\n",
    "    text = fd.read() \n",
    "    corpus.append(text)\n",
    "    fd.close()\n"
   ]
  },
  {
   "cell_type": "code",
   "execution_count": 4,
   "metadata": {
    "execution": {
     "iopub.execute_input": "2021-01-23T20:53:19.741356Z",
     "iopub.status.busy": "2021-01-23T20:53:19.735835Z",
     "iopub.status.idle": "2021-01-23T20:53:20.535620Z",
     "shell.execute_reply": "2021-01-23T20:53:20.534954Z"
    },
    "papermill": {
     "duration": 0.835511,
     "end_time": "2021-01-23T20:53:20.535733",
     "exception": false,
     "start_time": "2021-01-23T20:53:19.700222",
     "status": "completed"
    },
    "tags": []
   },
   "outputs": [
    {
     "name": "stdout",
     "output_type": "stream",
     "text": [
      "transforming to text file\n"
     ]
    }
   ],
   "source": [
    "print('shuffling articles')\n",
    "random.shuffle(corpus)\n",
    "\n",
    "print('transforming to text file')\n",
    "text = \"\"\n",
    "for doc in corpus:\n",
    "    text += doc + '  '"
   ]
  },
  {
   "cell_type": "code",
   "execution_count": 5,
   "metadata": {
    "execution": {
     "iopub.execute_input": "2021-01-23T20:53:20.566644Z",
     "iopub.status.busy": "2021-01-23T20:53:20.565944Z",
     "iopub.status.idle": "2021-01-23T20:53:22.576108Z",
     "shell.execute_reply": "2021-01-23T20:53:22.575311Z"
    },
    "papermill": {
     "duration": 2.027787,
     "end_time": "2021-01-23T20:53:22.576227",
     "exception": false,
     "start_time": "2021-01-23T20:53:20.548440",
     "status": "completed"
    },
    "tags": []
   },
   "outputs": [],
   "source": [
    "import codecs\n",
    "\n",
    "with codecs.open(\"../data/roberta-corpus/corpus.txt\", \"w\", \"utf-8-sig\") as temp:\n",
    "    temp.write(text)\n"
   ]
  }
 ],
 "metadata": {
  "kernelspec": {
   "display_name": "Python 3",
   "language": "python",
   "name": "python3"
  },
  "language_info": {
   "codemirror_mode": {
    "name": "ipython",
    "version": 3
   },
   "file_extension": ".py",
   "mimetype": "text/x-python",
   "name": "python",
   "nbconvert_exporter": "python",
   "pygments_lexer": "ipython3",
   "version": "3.7.6"
  },
  "papermill": {
   "duration": 1399.905813,
   "end_time": "2021-01-23T20:53:22.722799",
   "environment_variables": {},
   "exception": null,
   "input_path": "__notebook__.ipynb",
   "output_path": "__notebook__.ipynb",
   "parameters": {},
   "start_time": "2021-01-23T20:30:02.816986",
   "version": "2.1.0"
  }
 },
 "nbformat": 4,
 "nbformat_minor": 4
}
