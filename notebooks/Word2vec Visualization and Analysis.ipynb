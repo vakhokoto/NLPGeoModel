{
 "cells": [
  {
   "cell_type": "code",
   "execution_count": 1,
   "metadata": {
    "_cell_guid": "b1076dfc-b9ad-4769-8c92-a6c4dae69d19",
    "_uuid": "8f2839f25d086af736a60e9eeb907d3b93b6e0e5",
    "execution": {
     "iopub.execute_input": "2021-01-24T14:40:49.903810Z",
     "iopub.status.busy": "2021-01-24T14:40:49.902957Z",
     "iopub.status.idle": "2021-01-24T14:40:51.403101Z",
     "shell.execute_reply": "2021-01-24T14:40:51.403632Z"
    },
    "papermill": {
     "duration": 1.523377,
     "end_time": "2021-01-24T14:40:51.403816",
     "exception": false,
     "start_time": "2021-01-24T14:40:49.880439",
     "status": "completed"
    },
    "tags": []
   },
   "outputs": [],
   "source": [
    "import numpy as np \n",
    "import pandas as pd\n",
    "import os, json\n",
    "from gensim.models import word2vec\n",
    "from sklearn.manifold import TSNE\n",
    "from sklearn.decomposition import PCA\n",
    "import matplotlib.pyplot as plt\n"
   ]
  },
  {
   "cell_type": "markdown",
   "metadata": {
    "papermill": {
     "duration": 0.013296,
     "end_time": "2021-01-24T14:40:51.430745",
     "exception": false,
     "start_time": "2021-01-24T14:40:51.417449",
     "status": "completed"
    },
    "tags": []
   },
   "source": [
    "gensim-ით დატრენინგებული მოდელების წაკითხვა"
   ]
  },
  {
   "cell_type": "code",
   "execution_count": 2,
   "metadata": {
    "execution": {
     "iopub.execute_input": "2021-01-24T14:40:51.460454Z",
     "iopub.status.busy": "2021-01-24T14:40:51.459739Z",
     "iopub.status.idle": "2021-01-24T14:41:04.572448Z",
     "shell.execute_reply": "2021-01-24T14:41:04.573135Z"
    },
    "papermill": {
     "duration": 13.129368,
     "end_time": "2021-01-24T14:41:04.573303",
     "exception": false,
     "start_time": "2021-01-24T14:40:51.443935",
     "status": "completed"
    },
    "tags": []
   },
   "outputs": [],
   "source": [
    "model_names = ['w2vemb100wind3.model','w2vemb100wind4.model',\n",
    "              'w2vemb128wind3.model', 'w2vemb128wind4.model']\n",
    "models = {}\n",
    "for model_name in model_names:\n",
    "    model_path = os.path.join('../resources/word2vec/', model_name)\n",
    "    model = word2vec.Word2Vec.load(model_path)\n",
    "    models[model_name] = model\n",
    "    "
   ]
  },
  {
   "cell_type": "code",
   "execution_count": 3,
   "metadata": {
    "_cell_guid": "79c7e3d0-c299-4dcb-8224-4455121ee9b0",
    "_uuid": "d629ff2d2480ee46fbb7e2d37f6b5fab8052498a",
    "execution": {
     "iopub.execute_input": "2021-01-24T14:41:04.609791Z",
     "iopub.status.busy": "2021-01-24T14:41:04.608916Z",
     "iopub.status.idle": "2021-01-24T14:41:04.612806Z",
     "shell.execute_reply": "2021-01-24T14:41:04.612161Z"
    },
    "papermill": {
     "duration": 0.026132,
     "end_time": "2021-01-24T14:41:04.612917",
     "exception": false,
     "start_time": "2021-01-24T14:41:04.586785",
     "status": "completed"
    },
    "tags": []
   },
   "outputs": [],
   "source": [
    "def similarity(model, w1, w2):\n",
    "    w1 = w1.lower()\n",
    "    w2 = w2.lower()\n",
    "    return model.wv.similarity(w1, w2)\n",
    "\n",
    "def most_similar(model, word, n_words=5):\n",
    "    word = word.lower()\n",
    "    return model.wv.most_similar(word)[:n_words]\n",
    "\n",
    "def analogy(model, x1, x2, y1):\n",
    "    x1 = x1.lower()\n",
    "    x2 = x2.lower()\n",
    "    y1 = y1.lower()\n",
    "    result = model.wv.most_similar(positive=[y1, x2], negative=[x1])\n",
    "    return result[0][0]\n"
   ]
  },
  {
   "cell_type": "code",
   "execution_count": 4,
   "metadata": {
    "execution": {
     "iopub.execute_input": "2021-01-24T14:41:04.652129Z",
     "iopub.status.busy": "2021-01-24T14:41:04.651424Z",
     "iopub.status.idle": "2021-01-24T14:41:04.654899Z",
     "shell.execute_reply": "2021-01-24T14:41:04.654336Z"
    },
    "papermill": {
     "duration": 0.027764,
     "end_time": "2021-01-24T14:41:04.655021",
     "exception": false,
     "start_time": "2021-01-24T14:41:04.627257",
     "status": "completed"
    },
    "tags": []
   },
   "outputs": [],
   "source": [
    "def eval_most_similar(word, models):\n",
    "    print('most similar words for word', word)\n",
    "    for model_name, model in models.items():\n",
    "        print('model name', model_name)\n",
    "        print(most_similar(model, word))\n",
    "        \n",
    "def eval_similarity(word1, word2, models):\n",
    "    print('similarity between words:', word1, 'and', word2)\n",
    "    for model_name, model in models.items():\n",
    "        print('model name', model_name)\n",
    "        print('similarity score', similarity(model, word1, word2))\n",
    "    \n",
    "def eval_analogies(x1, x2, y1, models):\n",
    "    print(x1, '<-->', x2)\n",
    "    print(y1, '<-->', '?')\n",
    "    for model_name, model in models.items():\n",
    "        print('model_name', model_name)\n",
    "        print(analogy(model, x1, x2, y1))"
   ]
  },
  {
   "cell_type": "code",
   "execution_count": 5,
   "metadata": {
    "execution": {
     "iopub.execute_input": "2021-01-24T14:41:04.688517Z",
     "iopub.status.busy": "2021-01-24T14:41:04.687834Z",
     "iopub.status.idle": "2021-01-24T14:41:04.986814Z",
     "shell.execute_reply": "2021-01-24T14:41:04.983543Z"
    },
    "papermill": {
     "duration": 0.318252,
     "end_time": "2021-01-24T14:41:04.987071",
     "exception": false,
     "start_time": "2021-01-24T14:41:04.668819",
     "status": "completed"
    },
    "tags": []
   },
   "outputs": [
    {
     "name": "stdout",
     "output_type": "stream",
     "text": [
      "most similar words for word ეკლესია\n",
      "model name w2vemb100wind3.model\n",
      "[('ტაძარი', 0.8583544492721558), ('ეკლესიაც', 0.8253511190414429), ('ეკელსია', 0.8138865828514099), ('ყველაწმინდის', 0.7937350273132324), ('ეკლესიები', 0.7935410737991333)]\n",
      "model name w2vemb100wind4.model\n",
      "[('ეკელსია', 0.8450406789779663), ('ტაძარი', 0.8431476950645447), ('ეკლესიაც', 0.8254337310791016), ('ყველაწმინდის', 0.8238847255706787), ('სამლოცველო', 0.8133891820907593)]\n",
      "model name w2vemb128wind3.model\n",
      "[('ტაძარი', 0.8326042890548706), ('ეკლესიაც', 0.803955078125), ('ეკელსია', 0.8028874397277832), ('სამლოცველო', 0.7636417150497437), ('ეკლესიები', 0.7586513757705688)]\n",
      "model name w2vemb128wind4.model\n",
      "[('ტაძარი', 0.8437527418136597), ('ეკელსია', 0.8098087310791016), ('ეკლესიაც', 0.8019223213195801), ('ყველაწმინდის', 0.7890192270278931), ('ეკლესიები', 0.7725778818130493)]\n"
     ]
    }
   ],
   "source": [
    "eval_most_similar('ეკლესია', models)"
   ]
  },
  {
   "cell_type": "code",
   "execution_count": 6,
   "metadata": {
    "execution": {
     "iopub.execute_input": "2021-01-24T14:41:05.039065Z",
     "iopub.status.busy": "2021-01-24T14:41:05.037984Z",
     "iopub.status.idle": "2021-01-24T14:41:05.073691Z",
     "shell.execute_reply": "2021-01-24T14:41:05.073099Z"
    },
    "papermill": {
     "duration": 0.06339,
     "end_time": "2021-01-24T14:41:05.073807",
     "exception": false,
     "start_time": "2021-01-24T14:41:05.010417",
     "status": "completed"
    },
    "tags": []
   },
   "outputs": [
    {
     "name": "stdout",
     "output_type": "stream",
     "text": [
      "most similar words for word კატა\n",
      "model name w2vemb100wind3.model\n",
      "[('მგელი', 0.815251350402832), ('მელა', 0.814049482345581), ('სამურავი', 0.8129146099090576), ('კურდღელი', 0.8111729621887207), ('თაგვი', 0.7885494828224182)]\n",
      "model name w2vemb100wind4.model\n",
      "[('კურდღელი', 0.8191514015197754), ('სამურავი', 0.8131676912307739), ('გომბეშო', 0.8048181533813477), ('ლეოპარდი', 0.8047611713409424), ('ყვავი', 0.8033595085144043)]\n",
      "model name w2vemb128wind3.model\n",
      "[('კურდღელი', 0.805199921131134), ('ლეოპარდი', 0.7873542308807373), ('მგელი', 0.7714686989784241), ('სამურავი', 0.7645623683929443), ('თაგვი', 0.7641733884811401)]\n",
      "model name w2vemb128wind4.model\n",
      "[('კურდღელი', 0.8023569583892822), ('მელა', 0.7926850318908691), ('სამურავი', 0.7804392576217651), ('მგელი', 0.7719718813896179), ('თაგვი', 0.764232337474823)]\n"
     ]
    }
   ],
   "source": [
    "eval_most_similar('კატა', models)"
   ]
  },
  {
   "cell_type": "code",
   "execution_count": 7,
   "metadata": {
    "execution": {
     "iopub.execute_input": "2021-01-24T14:41:05.111377Z",
     "iopub.status.busy": "2021-01-24T14:41:05.110671Z",
     "iopub.status.idle": "2021-01-24T14:41:05.138480Z",
     "shell.execute_reply": "2021-01-24T14:41:05.139311Z"
    },
    "papermill": {
     "duration": 0.050623,
     "end_time": "2021-01-24T14:41:05.139509",
     "exception": false,
     "start_time": "2021-01-24T14:41:05.088886",
     "status": "completed"
    },
    "tags": []
   },
   "outputs": [
    {
     "name": "stdout",
     "output_type": "stream",
     "text": [
      "გოგო <--> ბიჭი\n",
      "ქალი <--> ?\n",
      "model_name w2vemb100wind3.model\n",
      "მამაკაცი\n",
      "model_name w2vemb100wind4.model\n",
      "მამაკაცი\n",
      "model_name w2vemb128wind3.model\n",
      "მამაკაცი\n",
      "model_name w2vemb128wind4.model\n",
      "მამაკაცი\n"
     ]
    }
   ],
   "source": [
    "eval_analogies('გოგო', 'ბიჭი', 'ქალი', models)"
   ]
  },
  {
   "cell_type": "code",
   "execution_count": 8,
   "metadata": {
    "execution": {
     "iopub.execute_input": "2021-01-24T14:41:05.184784Z",
     "iopub.status.busy": "2021-01-24T14:41:05.183773Z",
     "iopub.status.idle": "2021-01-24T14:41:05.190828Z",
     "shell.execute_reply": "2021-01-24T14:41:05.189744Z"
    },
    "papermill": {
     "duration": 0.03518,
     "end_time": "2021-01-24T14:41:05.191005",
     "exception": false,
     "start_time": "2021-01-24T14:41:05.155825",
     "status": "completed"
    },
    "tags": []
   },
   "outputs": [
    {
     "name": "stdout",
     "output_type": "stream",
     "text": [
      "similarity between words: მწერი and ბუზი\n",
      "model name w2vemb100wind3.model\n",
      "similarity score 0.7977623\n",
      "model name w2vemb100wind4.model\n",
      "similarity score 0.7670016\n",
      "model name w2vemb128wind3.model\n",
      "similarity score 0.7921775\n",
      "model name w2vemb128wind4.model\n",
      "similarity score 0.78778785\n"
     ]
    }
   ],
   "source": [
    "eval_similarity('მწერი', 'ბუზი', models)"
   ]
  },
  {
   "cell_type": "code",
   "execution_count": 9,
   "metadata": {
    "execution": {
     "iopub.execute_input": "2021-01-24T14:41:05.237024Z",
     "iopub.status.busy": "2021-01-24T14:41:05.236246Z",
     "iopub.status.idle": "2021-01-24T14:41:05.239704Z",
     "shell.execute_reply": "2021-01-24T14:41:05.239124Z"
    },
    "papermill": {
     "duration": 0.032481,
     "end_time": "2021-01-24T14:41:05.239823",
     "exception": false,
     "start_time": "2021-01-24T14:41:05.207342",
     "status": "completed"
    },
    "tags": []
   },
   "outputs": [],
   "source": [
    "def display_pca_scatterplot(model, words, sample=0):\n",
    "    if words == None:\n",
    "        if sample > 0:\n",
    "            words = np.random.choice(list(model.vocab.keys()), sample)\n",
    "        else:\n",
    "            words = [ word for word in model.vocab ]\n",
    "        \n",
    "    word_vectors = np.array([model[w] for w in words])\n",
    "\n",
    "    twodim = PCA().fit_transform(word_vectors)[:,:2]\n",
    "    \n",
    "    plt.figure(figsize=(6,6))\n",
    "    plt.scatter(twodim[:,0], twodim[:,1], edgecolors='k', c='r')\n",
    "    for word, (x,y) in zip(words, twodim):\n",
    "        plt.text(x+0.05, y+0.05, word)\n"
   ]
  },
  {
   "cell_type": "markdown",
   "metadata": {
    "papermill": {
     "duration": 0.015832,
     "end_time": "2021-01-24T14:41:05.272058",
     "exception": false,
     "start_time": "2021-01-24T14:41:05.256226",
     "status": "completed"
    },
    "tags": []
   },
   "source": [
    "როგორც ვხედავთ, საკმაოდ კარგად დაჯგუფდა მსგავსი დატვირთვის მქონე ზედსართავი სახელები"
   ]
  },
  {
   "cell_type": "code",
   "execution_count": 10,
   "metadata": {
    "execution": {
     "iopub.execute_input": "2021-01-24T14:41:05.323716Z",
     "iopub.status.busy": "2021-01-24T14:41:05.322886Z",
     "iopub.status.idle": "2021-01-24T14:41:05.562458Z",
     "shell.execute_reply": "2021-01-24T14:41:05.561795Z"
    },
    "papermill": {
     "duration": 0.274141,
     "end_time": "2021-01-24T14:41:05.562569",
     "exception": false,
     "start_time": "2021-01-24T14:41:05.288428",
     "status": "completed"
    },
    "tags": []
   },
   "outputs": [
    {
     "name": "stderr",
     "output_type": "stream",
     "text": [
      "/opt/conda/lib/python3.7/site-packages/ipykernel_launcher.py:8: DeprecationWarning: Call to deprecated `__getitem__` (Method will be removed in 4.0.0, use self.wv.__getitem__() instead).\n",
      "  \n"
     ]
    },
    {
     "data": {
      "image/png": "[encoded data removed]",
      "text/plain": [
       "<Figure size 432x432 with 1 Axes>"
      ]
     },
     "metadata": {
      "needs_background": "light"
     },
     "output_type": "display_data"
    }
   ],
   "source": [
    "words = ['დიდი', 'უზარმაზარი', 'უდიდესი', 'მსხვილი', 'წვრილი', 'მცირე', 'პატარა', 'მომცრო']\n",
    "model = models['w2vemb100wind3.model']\n",
    "display_pca_scatterplot(model, words)\n"
   ]
  },
  {
   "cell_type": "code",
   "execution_count": 11,
   "metadata": {
    "execution": {
     "iopub.execute_input": "2021-01-24T14:41:05.614769Z",
     "iopub.status.busy": "2021-01-24T14:41:05.613123Z",
     "iopub.status.idle": "2021-01-24T14:41:05.615473Z",
     "shell.execute_reply": "2021-01-24T14:41:05.615981Z"
    },
    "papermill": {
     "duration": 0.035287,
     "end_time": "2021-01-24T14:41:05.616118",
     "exception": false,
     "start_time": "2021-01-24T14:41:05.580831",
     "status": "completed"
    },
    "tags": []
   },
   "outputs": [],
   "source": [
    "def display_closestwords(model, word, embed_size):\n",
    "    \n",
    "    arr = np.empty((0,embed_size), dtype='f')\n",
    "    word_labels = [word]\n",
    "\n",
    "    # მსგავსი სიტყვები\n",
    "    close_words = model.wv.similar_by_word(word)\n",
    "    \n",
    "    # ყველა ვექტორის გაერთიანება არაიში\n",
    "    arr = np.append(arr, np.array([model[word]]), axis=0)\n",
    "    for wrd_score in close_words:\n",
    "        wrd_vector = model[wrd_score[0]]\n",
    "        word_labels.append(wrd_score[0])\n",
    "        arr = np.append(arr, np.array([wrd_vector]), axis=0)\n",
    "        \n",
    "    # TSNE 2 განზომილებისთვის\n",
    "    tsne = TSNE(n_components=2, random_state=0)\n",
    "    np.set_printoptions(suppress=True)\n",
    "    Y = tsne.fit_transform(arr)\n",
    "\n",
    "    x_coords = Y[:, 0]\n",
    "    y_coords = Y[:, 1]\n",
    "    plt.scatter(x_coords, y_coords)\n",
    "\n",
    "    for label, x, y in zip(word_labels, x_coords, y_coords):\n",
    "        plt.annotate(label, xy=(x, y), xytext=(0, 0), textcoords='offset points')\n",
    "    plt.xlim(x_coords.min()+0.00005, x_coords.max()+0.00005)\n",
    "    plt.ylim(y_coords.min()+0.00005, y_coords.max()+0.00005)\n",
    "    plt.show()\n"
   ]
  },
  {
   "cell_type": "markdown",
   "metadata": {
    "papermill": {
     "duration": 0.017802,
     "end_time": "2021-01-24T14:41:05.651503",
     "exception": false,
     "start_time": "2021-01-24T14:41:05.633701",
     "status": "completed"
    },
    "tags": []
   },
   "source": [
    "ქვემოთ ვხედავთ მსგავსი სიტყვების ფლოთს. ამ კონკრეტულ შემთხვევაში აღსანიშნავია, რომ ყველა ახლო სიტყვა არის ზმნა და ატარებს მსგავს დატვირთვას. "
   ]
  },
  {
   "cell_type": "code",
   "execution_count": 12,
   "metadata": {
    "execution": {
     "iopub.execute_input": "2021-01-24T14:41:05.693175Z",
     "iopub.status.busy": "2021-01-24T14:41:05.692070Z",
     "iopub.status.idle": "2021-01-24T14:41:06.137677Z",
     "shell.execute_reply": "2021-01-24T14:41:06.138171Z"
    },
    "papermill": {
     "duration": 0.46897,
     "end_time": "2021-01-24T14:41:06.138317",
     "exception": false,
     "start_time": "2021-01-24T14:41:05.669347",
     "status": "completed"
    },
    "tags": []
   },
   "outputs": [
    {
     "name": "stderr",
     "output_type": "stream",
     "text": [
      "/opt/conda/lib/python3.7/site-packages/ipykernel_launcher.py:10: DeprecationWarning: Call to deprecated `__getitem__` (Method will be removed in 4.0.0, use self.wv.__getitem__() instead).\n",
      "  # Remove the CWD from sys.path while we load stuff.\n",
      "/opt/conda/lib/python3.7/site-packages/ipykernel_launcher.py:12: DeprecationWarning: Call to deprecated `__getitem__` (Method will be removed in 4.0.0, use self.wv.__getitem__() instead).\n",
      "  if sys.path[0] == '':\n"
     ]
    },
    {
     "data": {
      "image/png": "[encoded data removed]",
      "text/plain": [
       "<Figure size 432x288 with 1 Axes>"
      ]
     },
     "metadata": {
      "needs_background": "light"
     },
     "output_type": "display_data"
    }
   ],
   "source": [
    "display_closestwords(model, 'წავიდა', 100)\n"
   ]
  },
  {
   "cell_type": "markdown",
   "metadata": {
    "papermill": {
     "duration": 0.018698,
     "end_time": "2021-01-24T14:41:06.176482",
     "exception": false,
     "start_time": "2021-01-24T14:41:06.157784",
     "status": "completed"
    },
    "tags": []
   },
   "source": [
    "შევაფასოთ ტრანსფორმერის მიერ შექმნილი ემბედინგებიც"
   ]
  },
  {
   "cell_type": "code",
   "execution_count": 13,
   "metadata": {
    "execution": {
     "iopub.execute_input": "2021-01-24T14:41:06.242804Z",
     "iopub.status.busy": "2021-01-24T14:41:06.242069Z",
     "iopub.status.idle": "2021-01-24T14:41:09.438245Z",
     "shell.execute_reply": "2021-01-24T14:41:09.438806Z"
    },
    "papermill": {
     "duration": 3.243208,
     "end_time": "2021-01-24T14:41:09.438957",
     "exception": false,
     "start_time": "2021-01-24T14:41:06.195749",
     "status": "completed"
    },
    "tags": []
   },
   "outputs": [
    {
     "data": {
      "text/plain": [
       "<All keys matched successfully>"
      ]
     },
     "execution_count": 13,
     "metadata": {},
     "output_type": "execute_result"
    }
   ],
   "source": [
    "import torch, math\n",
    "import torch.nn as nn\n",
    "import torch.nn.functional as F\n",
    "from torch.nn import TransformerEncoder, TransformerEncoderLayer\n",
    "\n",
    "\n",
    "class PositionalEncoding(nn.Module):\n",
    "\n",
    "    def __init__(self, d_model, dropout=0.1, max_len=5000):\n",
    "        super(PositionalEncoding, self).__init__()\n",
    "        self.dropout = nn.Dropout(p=dropout)\n",
    "\n",
    "        pe = torch.zeros(max_len, d_model)\n",
    "        position = torch.arange(0, max_len, dtype=torch.float).unsqueeze(1)\n",
    "        div_term = torch.exp(torch.arange(0, d_model, 2).float() * (-math.log(10000.0) / d_model))\n",
    "        pe[:, 0::2] = torch.sin(position * div_term)\n",
    "        pe[:, 1::2] = torch.cos(position * div_term)\n",
    "        pe = pe.unsqueeze(0).transpose(0, 1)\n",
    "        self.register_buffer('pe', pe)\n",
    "\n",
    "    def forward(self, x):\n",
    "        x = x + self.pe[:x.size(0), :]\n",
    "        return self.dropout(x)\n",
    "\n",
    "class TransformerModel(nn.Module):\n",
    "\n",
    "    def __init__(self, ntoken, ninp, nhead, nhid, nlayers, dropout=0.5, weights=None):\n",
    "        super(TransformerModel, self).__init__()\n",
    "        self.pos_encoder = PositionalEncoding(ninp, dropout)\n",
    "        encoder_layers = TransformerEncoderLayer(ninp, nhead, nhid, dropout)\n",
    "        self.transformer_encoder = TransformerEncoder(encoder_layers, nlayers)\n",
    "        if weights is None:\n",
    "            self.encoder = nn.Embedding(ntoken, ninp)        \n",
    "        else:\n",
    "            self.encoder = nn.Embedding.from_pretrained(weights)\n",
    "        self.ninp = ninp\n",
    "        self.decoder = nn.Linear(ninp, ntoken)\n",
    "\n",
    "        self.init_weights()\n",
    "\n",
    "    def generate_square_subsequent_mask(self, sz):\n",
    "        mask = (torch.triu(torch.ones(sz, sz)) == 1).transpose(0, 1)\n",
    "        mask = mask.float().masked_fill(mask == 0, float('-inf')).masked_fill(mask == 1, float(0.0))\n",
    "        return mask\n",
    "\n",
    "    def init_weights(self):\n",
    "        initrange = 0.1\n",
    "        self.encoder.weight.data.uniform_(-initrange, initrange)\n",
    "        self.decoder.bias.data.zero_()\n",
    "        self.decoder.weight.data.uniform_(-initrange, initrange)\n",
    "\n",
    "    def forward(self, src, src_mask):\n",
    "        src = self.encoder(src) * math.sqrt(self.ninp)\n",
    "        src = self.pos_encoder(src)\n",
    "        output = self.transformer_encoder(src, src_mask)\n",
    "        output = self.decoder(output)\n",
    "        return output\n",
    "\n",
    "    \n",
    "ntokens = 90001 # vocab-ის ზომა\n",
    "emsize = 100 # ემბედინგის განზომილება\n",
    "nhid = 200 # ენკოდერში ფიდფორვარდ ნეთვორქის ჰიდენ სთეითის განზომილება\n",
    "nlayers = 2 # ენკოდერ ლეიერების რაოდენობა\n",
    "nhead = 2 # attention-ების რაოდენობა\n",
    "dropout = 0.3 # დროფაუთი\n",
    "transformer = TransformerModel(ntokens, emsize, nhead, nhid, nlayers, dropout)\n",
    "transformer.load_state_dict(torch.load('../resources/pytorch-transformer-model/best_model.pth', map_location=torch.device('cpu')))\n"
   ]
  },
  {
   "cell_type": "code",
   "execution_count": 14,
   "metadata": {
    "execution": {
     "iopub.execute_input": "2021-01-24T14:41:09.482161Z",
     "iopub.status.busy": "2021-01-24T14:41:09.481187Z",
     "iopub.status.idle": "2021-01-24T14:41:09.582449Z",
     "shell.execute_reply": "2021-01-24T14:41:09.582972Z"
    },
    "papermill": {
     "duration": 0.124474,
     "end_time": "2021-01-24T14:41:09.583139",
     "exception": false,
     "start_time": "2021-01-24T14:41:09.458665",
     "status": "completed"
    },
    "tags": []
   },
   "outputs": [],
   "source": [
    "import json\n",
    "\n",
    "with open('../data/vocab/vocab.json', 'r') as f:\n",
    "    vocab = json.load(f)\n",
    "\n",
    "word2id = {word:ind for ind, word in enumerate(vocab)}\n",
    "embeddings = transformer.encoder.weight.data"
   ]
  },
  {
   "cell_type": "code",
   "execution_count": 15,
   "metadata": {
    "execution": {
     "iopub.execute_input": "2021-01-24T14:41:09.627764Z",
     "iopub.status.busy": "2021-01-24T14:41:09.626785Z",
     "iopub.status.idle": "2021-01-24T14:41:09.795586Z",
     "shell.execute_reply": "2021-01-24T14:41:09.795052Z"
    },
    "papermill": {
     "duration": 0.192427,
     "end_time": "2021-01-24T14:41:09.795717",
     "exception": false,
     "start_time": "2021-01-24T14:41:09.603290",
     "status": "completed"
    },
    "tags": []
   },
   "outputs": [
    {
     "data": {
      "image/png": "[encoded data removed]",
      "text/plain": [
       "<Figure size 432x432 with 1 Axes>"
      ]
     },
     "metadata": {
      "needs_background": "light"
     },
     "output_type": "display_data"
    }
   ],
   "source": [
    "words = ['დიდი', 'უზარმაზარი', 'უდიდესი', 'მსხვილი', 'წვრილი', 'მცირე', 'პატარა', 'მომცრო']\n",
    "word_ids = [word2id[word] for word in words]\n",
    "word_vectors = np.array([np.array(embeddings[ind]) for ind in word_ids])    \n",
    "twodim = PCA().fit_transform(word_vectors)[:,:2]\n",
    "\n",
    "plt.figure(figsize=(6,6))\n",
    "plt.scatter(twodim[:,0], twodim[:,1], edgecolors='k', c='r')\n",
    "for word, (x,y) in zip(words, twodim):\n",
    "    plt.text(x+0.05, y+0.05, word)\n"
   ]
  },
  {
   "cell_type": "code",
   "execution_count": null,
   "metadata": {
    "papermill": {
     "duration": 0.020817,
     "end_time": "2021-01-24T14:41:09.838171",
     "exception": false,
     "start_time": "2021-01-24T14:41:09.817354",
     "status": "completed"
    },
    "tags": []
   },
   "outputs": [],
   "source": []
  }
 ],
 "metadata": {
  "kernelspec": {
   "display_name": "Python 3",
   "language": "python",
   "name": "python3"
  },
  "language_info": {
   "codemirror_mode": {
    "name": "ipython",
    "version": 3
   },
   "file_extension": ".py",
   "mimetype": "text/x-python",
   "name": "python",
   "nbconvert_exporter": "python",
   "pygments_lexer": "ipython3",
   "version": "3.7.6"
  },
  "papermill": {
   "duration": 25.950041,
   "end_time": "2021-01-24T14:41:10.963863",
   "environment_variables": {},
   "exception": null,
   "input_path": "__notebook__.ipynb",
   "output_path": "__notebook__.ipynb",
   "parameters": {},
   "start_time": "2021-01-24T14:40:45.013822",
   "version": "2.1.0"
  }
 },
 "nbformat": 4,
 "nbformat_minor": 4
}
